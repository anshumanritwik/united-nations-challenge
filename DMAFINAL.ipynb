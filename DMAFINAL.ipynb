{
 "cells": [
  {
   "cell_type": "markdown",
   "metadata": {},
   "source": [

   ]
  },
  {
   "cell_type": "markdown",
   "metadata": {},
   "source": [
    "### --------------------------------------------------------------------------------------------------------------------------------------------------------------"
   ]
  },
  {
   "cell_type": "markdown",
   "metadata": {},
   "source": [
    "  \n",
    "  ##                                            PROJECT  CODE - 5ADMACP01\n",
    "  ##                                            COURSE    CODE-18ECSC301\n",
    "  ##                                            COURSE NAME-DATA MINING AND ANALYSIS\n",
    "  \n",
    "\n",
    "\n",
    "   ##                     UNITED NATIONS MILLENIUM DEVELOPMENT GOALS\n",
    "\n",
    "   ## To predict the changes in the stated indicators by the UN one and five years in the future, based on their previous data, recorded over the years(1972-2007) \n",
    "\n"
   ]
  },
  {
   "cell_type": "markdown",
   "metadata": {},
   "source": [
    "### ------------------------------------------------------------------------------------------------------------------------------------------------------"
   ]
  },
  {
   "cell_type": "markdown",
   "metadata": {},
   "source": [
 
   ]
  },
  {
   "cell_type": "markdown",
   "metadata": {},
   "source": [
    "##### ----------------------------------------------------------------------------------------------------------------------------------------------------------------------------------------------------------"
   ]
  },
  {
   "cell_type": "markdown",
   "metadata": {},
   "source": []
  },
  {
   "cell_type": "code",
   "execution_count": 1,
   "metadata": {},
   "outputs": [],
   "source": [
    "#import tensorflow as tf\n",
    "import numpy as np\n",
    "import pandas as pd"
   ]
  },
  {
   "cell_type": "code",
   "execution_count": 9,
   "metadata": {},
   "outputs": [
    {
     "data": {
      "text/html": [
       "<div>\n",
       "<style scoped>\n",
       "    .dataframe tbody tr th:only-of-type {\n",
       "        vertical-align: middle;\n",
       "    }\n",
       "\n",
       "    .dataframe tbody tr th {\n",
       "        vertical-align: top;\n",
       "    }\n",
       "\n",
       "    .dataframe thead th {\n",
       "        text-align: right;\n",
       "    }\n",
       "</style>\n",
       "<table border=\"1\" class=\"dataframe\">\n",
       "  <thead>\n",
       "    <tr style=\"text-align: right;\">\n",
       "      <th></th>\n",
       "      <th>Unnamed: 0</th>\n",
       "      <th>1972 [YR1972]</th>\n",
       "      <th>1973 [YR1973]</th>\n",
       "      <th>1974 [YR1974]</th>\n",
       "      <th>1975 [YR1975]</th>\n",
       "      <th>1976 [YR1976]</th>\n",
       "      <th>1977 [YR1977]</th>\n",
       "      <th>1978 [YR1978]</th>\n",
       "      <th>1979 [YR1979]</th>\n",
       "      <th>1980 [YR1980]</th>\n",
       "      <th>...</th>\n",
       "      <th>2001 [YR2001]</th>\n",
       "      <th>2002 [YR2002]</th>\n",
       "      <th>2003 [YR2003]</th>\n",
       "      <th>2004 [YR2004]</th>\n",
       "      <th>2005 [YR2005]</th>\n",
       "      <th>2006 [YR2006]</th>\n",
       "      <th>2007 [YR2007]</th>\n",
       "      <th>Country Name</th>\n",
       "      <th>Series Code</th>\n",
       "      <th>Series Name</th>\n",
       "    </tr>\n",
       "  </thead>\n",
       "  <tbody>\n",
       "    <tr>\n",
       "      <th>195397</th>\n",
       "      <td>286113</td>\n",
       "      <td>NaN</td>\n",
       "      <td>NaN</td>\n",
       "      <td>NaN</td>\n",
       "      <td>NaN</td>\n",
       "      <td>NaN</td>\n",
       "      <td>NaN</td>\n",
       "      <td>NaN</td>\n",
       "      <td>NaN</td>\n",
       "      <td>NaN</td>\n",
       "      <td>...</td>\n",
       "      <td>NaN</td>\n",
       "      <td>NaN</td>\n",
       "      <td>NaN</td>\n",
       "      <td>NaN</td>\n",
       "      <td>NaN</td>\n",
       "      <td>12.2</td>\n",
       "      <td>NaN</td>\n",
       "      <td>Zimbabwe</td>\n",
       "      <td>SG.VAW.BURN.ZS</td>\n",
       "      <td>Women who believe a husband is justified in be...</td>\n",
       "    </tr>\n",
       "    <tr>\n",
       "      <th>195398</th>\n",
       "      <td>286114</td>\n",
       "      <td>NaN</td>\n",
       "      <td>NaN</td>\n",
       "      <td>NaN</td>\n",
       "      <td>NaN</td>\n",
       "      <td>NaN</td>\n",
       "      <td>NaN</td>\n",
       "      <td>NaN</td>\n",
       "      <td>NaN</td>\n",
       "      <td>NaN</td>\n",
       "      <td>...</td>\n",
       "      <td>NaN</td>\n",
       "      <td>NaN</td>\n",
       "      <td>NaN</td>\n",
       "      <td>NaN</td>\n",
       "      <td>NaN</td>\n",
       "      <td>33.0</td>\n",
       "      <td>NaN</td>\n",
       "      <td>Zimbabwe</td>\n",
       "      <td>SG.VAW.GOES.ZS</td>\n",
       "      <td>Women who believe a husband is justified in be...</td>\n",
       "    </tr>\n",
       "    <tr>\n",
       "      <th>195399</th>\n",
       "      <td>286115</td>\n",
       "      <td>NaN</td>\n",
       "      <td>NaN</td>\n",
       "      <td>NaN</td>\n",
       "      <td>NaN</td>\n",
       "      <td>NaN</td>\n",
       "      <td>NaN</td>\n",
       "      <td>NaN</td>\n",
       "      <td>NaN</td>\n",
       "      <td>NaN</td>\n",
       "      <td>...</td>\n",
       "      <td>NaN</td>\n",
       "      <td>NaN</td>\n",
       "      <td>NaN</td>\n",
       "      <td>NaN</td>\n",
       "      <td>NaN</td>\n",
       "      <td>30.2</td>\n",
       "      <td>NaN</td>\n",
       "      <td>Zimbabwe</td>\n",
       "      <td>SG.VAW.NEGL.ZS</td>\n",
       "      <td>Women who believe a husband is justified in be...</td>\n",
       "    </tr>\n",
       "    <tr>\n",
       "      <th>195400</th>\n",
       "      <td>286116</td>\n",
       "      <td>NaN</td>\n",
       "      <td>NaN</td>\n",
       "      <td>NaN</td>\n",
       "      <td>NaN</td>\n",
       "      <td>NaN</td>\n",
       "      <td>NaN</td>\n",
       "      <td>NaN</td>\n",
       "      <td>NaN</td>\n",
       "      <td>NaN</td>\n",
       "      <td>...</td>\n",
       "      <td>NaN</td>\n",
       "      <td>NaN</td>\n",
       "      <td>NaN</td>\n",
       "      <td>NaN</td>\n",
       "      <td>NaN</td>\n",
       "      <td>24.3</td>\n",
       "      <td>NaN</td>\n",
       "      <td>Zimbabwe</td>\n",
       "      <td>SG.VAW.REFU.ZS</td>\n",
       "      <td>Women who believe a husband is justified in be...</td>\n",
       "    </tr>\n",
       "    <tr>\n",
       "      <th>195401</th>\n",
       "      <td>286117</td>\n",
       "      <td>NaN</td>\n",
       "      <td>NaN</td>\n",
       "      <td>NaN</td>\n",
       "      <td>NaN</td>\n",
       "      <td>NaN</td>\n",
       "      <td>NaN</td>\n",
       "      <td>NaN</td>\n",
       "      <td>NaN</td>\n",
       "      <td>NaN</td>\n",
       "      <td>...</td>\n",
       "      <td>57.0</td>\n",
       "      <td>57.2</td>\n",
       "      <td>57.5</td>\n",
       "      <td>57.7</td>\n",
       "      <td>57.9</td>\n",
       "      <td>58.1</td>\n",
       "      <td>58.3</td>\n",
       "      <td>Zimbabwe</td>\n",
       "      <td>SH.DYN.AIDS.FE.ZS</td>\n",
       "      <td>Women's share of population ages 15+ living wi...</td>\n",
       "    </tr>\n",
       "  </tbody>\n",
       "</table>\n",
       "<p>5 rows × 40 columns</p>\n",
       "</div>"
      ],
      "text/plain": [
       "        Unnamed: 0  1972 [YR1972]  1973 [YR1973]  1974 [YR1974]  \\\n",
       "195397      286113            NaN            NaN            NaN   \n",
       "195398      286114            NaN            NaN            NaN   \n",
       "195399      286115            NaN            NaN            NaN   \n",
       "195400      286116            NaN            NaN            NaN   \n",
       "195401      286117            NaN            NaN            NaN   \n",
       "\n",
       "        1975 [YR1975]  1976 [YR1976]  1977 [YR1977]  1978 [YR1978]  \\\n",
       "195397            NaN            NaN            NaN            NaN   \n",
       "195398            NaN            NaN            NaN            NaN   \n",
       "195399            NaN            NaN            NaN            NaN   \n",
       "195400            NaN            NaN            NaN            NaN   \n",
       "195401            NaN            NaN            NaN            NaN   \n",
       "\n",
       "        1979 [YR1979]  1980 [YR1980]  \\\n",
       "195397            NaN            NaN   \n",
       "195398            NaN            NaN   \n",
       "195399            NaN            NaN   \n",
       "195400            NaN            NaN   \n",
       "195401            NaN            NaN   \n",
       "\n",
       "                              ...                          2001 [YR2001]  \\\n",
       "195397                        ...                                    NaN   \n",
       "195398                        ...                                    NaN   \n",
       "195399                        ...                                    NaN   \n",
       "195400                        ...                                    NaN   \n",
       "195401                        ...                                   57.0   \n",
       "\n",
       "        2002 [YR2002]  2003 [YR2003]  2004 [YR2004]  2005 [YR2005]  \\\n",
       "195397            NaN            NaN            NaN            NaN   \n",
       "195398            NaN            NaN            NaN            NaN   \n",
       "195399            NaN            NaN            NaN            NaN   \n",
       "195400            NaN            NaN            NaN            NaN   \n",
       "195401           57.2           57.5           57.7           57.9   \n",
       "\n",
       "        2006 [YR2006]  2007 [YR2007]  Country Name        Series Code  \\\n",
       "195397           12.2            NaN      Zimbabwe     SG.VAW.BURN.ZS   \n",
       "195398           33.0            NaN      Zimbabwe     SG.VAW.GOES.ZS   \n",
       "195399           30.2            NaN      Zimbabwe     SG.VAW.NEGL.ZS   \n",
       "195400           24.3            NaN      Zimbabwe     SG.VAW.REFU.ZS   \n",
       "195401           58.1           58.3      Zimbabwe  SH.DYN.AIDS.FE.ZS   \n",
       "\n",
       "                                              Series Name  \n",
       "195397  Women who believe a husband is justified in be...  \n",
       "195398  Women who believe a husband is justified in be...  \n",
       "195399  Women who believe a husband is justified in be...  \n",
       "195400  Women who believe a husband is justified in be...  \n",
       "195401  Women's share of population ages 15+ living wi...  \n",
       "\n",
       "[5 rows x 40 columns]"
      ]
     },
     "execution_count": 9,
     "metadata": {},
     "output_type": "execute_result"
    }
   ],
   "source": [
    "training= pd.read_csv(\"C:\\\\Users\\\\anshu\\\\Desktop\\\\dma project\\\\data\\\\TrainingSet.csv\")\n",
    "training.tail(5)"
   ]
  },
  {
   "cell_type": "code",
   "execution_count": 13,
   "metadata": {},
   "outputs": [
    {
     "data": {
      "text/html": [
       "<div>\n",
       "<style scoped>\n",
       "    .dataframe tbody tr th:only-of-type {\n",
       "        vertical-align: middle;\n",
       "    }\n",
       "\n",
       "    .dataframe tbody tr th {\n",
       "        vertical-align: top;\n",
       "    }\n",
       "\n",
       "    .dataframe thead th {\n",
       "        text-align: right;\n",
       "    }\n",
       "</style>\n",
       "<table border=\"1\" class=\"dataframe\">\n",
       "  <thead>\n",
       "    <tr style=\"text-align: right;\">\n",
       "      <th></th>\n",
       "      <th>Unnamed: 0</th>\n",
       "      <th>2008 [YR2008]</th>\n",
       "      <th>2012 [YR2012]</th>\n",
       "    </tr>\n",
       "  </thead>\n",
       "  <tbody>\n",
       "    <tr>\n",
       "      <th>0</th>\n",
       "      <td>559</td>\n",
       "      <td>NaN</td>\n",
       "      <td>NaN</td>\n",
       "    </tr>\n",
       "    <tr>\n",
       "      <th>1</th>\n",
       "      <td>618</td>\n",
       "      <td>NaN</td>\n",
       "      <td>NaN</td>\n",
       "    </tr>\n",
       "    <tr>\n",
       "      <th>2</th>\n",
       "      <td>753</td>\n",
       "      <td>NaN</td>\n",
       "      <td>NaN</td>\n",
       "    </tr>\n",
       "    <tr>\n",
       "      <th>3</th>\n",
       "      <td>1030</td>\n",
       "      <td>NaN</td>\n",
       "      <td>NaN</td>\n",
       "    </tr>\n",
       "    <tr>\n",
       "      <th>4</th>\n",
       "      <td>1896</td>\n",
       "      <td>NaN</td>\n",
       "      <td>NaN</td>\n",
       "    </tr>\n",
       "  </tbody>\n",
       "</table>\n",
       "</div>"
      ],
      "text/plain": [
       "   Unnamed: 0  2008 [YR2008]  2012 [YR2012]\n",
       "0         559            NaN            NaN\n",
       "1         618            NaN            NaN\n",
       "2         753            NaN            NaN\n",
       "3        1030            NaN            NaN\n",
       "4        1896            NaN            NaN"
      ]
     },
     "execution_count": 13,
     "metadata": {},
     "output_type": "execute_result"
    }
   ],
   "source": [
    "submission_row= pd.read_csv(\"C:\\\\Users\\\\anshu\\\\Desktop\\\\dma project\\\\data\\\\SubmissionRows (3).csv\");\n",
    "submission_row.head(5)"
   ]
  },
  {
   "cell_type": "markdown",
   "metadata": {},
   "source": [
    "# UNDERSTANDING DATA"
   ]
  },
  {
   "cell_type": "markdown",
   "metadata": {},
   "source": [
    "### INDICATORS\n",
    "\n",
    "#### ensure primary education - 2.1\n",
    "#### reduced child mortality - 4.1\n",
    "#### enviromental sustainibitlity - 7.8\n",
    "#### global partnership among nations - 8.16\n",
    "#### eradicating extreme poverty and hunger - 1.2\n",
    "#### combat HIV - 6.1\n",
    "#### combat malaria and other diseases - 6.7\n",
    "#### women empowerment and gender equality - 3.2\n",
    "#### maternal healthcare - 5.1\n",
    "\n",
    "\n",
    "\n",
    "\n",
    "\n",
    "\n",
    "\n"
   ]
  },
  {
   "cell_type": "markdown",
   "metadata": {},
   "source": [
    "\n",
    "### FILE 1 : Trainingset.csv\n",
    "#### Row id \n",
    "#### Year(1972-2007)\n",
    "#### Country Name\n",
    "#### Series Code\n",
    "#### Series Name"
   ]
  },
  {
   "cell_type": "markdown",
   "metadata": {},
   "source": [
    "### FILE 2 : SubmissionRow.csv\n",
    "#### Row id\n",
    "#### Year(2008)\n",
    "#### Year(2012)\n"
   ]
  },
  {
   "cell_type": "markdown",
   "metadata": {},
   "source": [
    "# PREPROCESSING"
   ]
  },
  {
   "cell_type": "markdown",
   "metadata": {},
   "source": [
    "## Extracting Chunks (as per indicators)"
   ]
  },
  {
   "cell_type": "code",
   "execution_count": 17,
   "metadata": {},
   "outputs": [
    {
     "name": "stdout",
     "output_type": "stream",
     "text": [
      "(184, 40)\n",
      "(199, 40)\n",
      "(206, 40)\n",
      "(192, 40)\n",
      "(105, 40)\n",
      "(200, 40)\n",
      "(54, 40)\n",
      "(178, 40)\n"
     ]
    }
   ],
   "source": [
    "#extracting data_chunks\n",
    "education= training.loc[training['Series Code']=='2.1']\n",
    "environment= training.loc[training['Series Code']=='7.8']\n",
    "global_partnership= training.loc[training['Series Code']=='8.16']\n",
    "mortality= training.loc[training['Series Code']=='4.1']\n",
    "poverty= training.loc[training['Series Code']=='1.2']\n",
    "HIV= training.loc[training['Series Code']=='6.1']\n",
    "gender_eq= training.loc[training['Series Code']=='3.2']\n",
    "malaria= training.loc[training['Series Code']=='6.7']\n",
    "maternal_health= training.loc[training['Series Code']=='5.1']\n",
    "\n",
    "\n",
    "print(education.shape)\n",
    "print(environment.shape)\n",
    "print(global_partnership.shape)\n",
    "print(mortality.shape)\n",
    "print(HIV.shape)\n",
    "print(gender_eq.shape)\n",
    "print(malaria.shape)\n",
    "print(maternal_health.shape)"
   ]
  },
  {
   "cell_type": "code",
   "execution_count": 18,
   "metadata": {},
   "outputs": [],
   "source": [
    "#extracting the numeric rows from the data\n",
    "education= education.loc[:,education.columns[1]:education.columns[36]]\n",
    "environment= environment.loc[:,environment.columns[1]:environment.columns[36]]\n",
    "global_partnership= global_partnership.loc[:,global_partnership.columns[1]:global_partnership.columns[36]]\n",
    "mortality=mortality.loc[:,mortality.columns[1]:mortality.columns[36]]\n",
    "poverty=poverty.loc[:,poverty.columns[1]:poverty.columns[36]]\n",
    "HIV= HIV.loc[:,HIV.columns[1]:HIV.columns[36]]\n",
    "gender_eq=gender_eq.loc[:,gender_eq.columns[1]:gender_eq.columns[36]]\n",
    "malaria= malaria.loc[:,malaria.columns[1]:malaria.columns[36]]\n",
    "maternal_health=maternal_health.loc[:,maternal_health.columns[1]:maternal_health.columns[36]]"
   ]
  },
  {
   "cell_type": "markdown",
   "metadata": {},
   "source": [
    "## Iterative Imputer"
   ]
  },
  {
   "cell_type": "code",
   "execution_count": 70,
   "metadata": {},
   "outputs": [
    {
     "name": "stderr",
     "output_type": "stream",
     "text": [
      "C:\\Users\\anshu\\Anaconda3\\lib\\site-packages\\h5py\\__init__.py:36: FutureWarning: Conversion of the second argument of issubdtype from `float` to `np.floating` is deprecated. In future, it will be treated as `np.float64 == np.dtype(float).type`.\n",
      "  from ._conv import register_converters as _register_converters\n",
      "Using TensorFlow backend.\n"
     ]
    }
   ],
   "source": [
    "from fancyimpute import IterativeImputer"
   ]
  },
  {
   "cell_type": "code",
   "execution_count": 71,
   "metadata": {},
   "outputs": [],
   "source": [
    "#transposing the data chunks\n",
    "chiT=mortality.T\n",
    "gloT=global_partnership.T\n",
    "eduT=education.T\n",
    "envT=environment.T\n",
    "matT=maternal_health.T\n",
    "hivT=HIV.T"
   ]
  },
  {
   "cell_type": "code",
   "execution_count": 72,
   "metadata": {},
   "outputs": [],
   "source": [
    "#applying the iterative imputer on the transposed data chunks.\n",
    "chiX = IterativeImputer().fit_transform(chiT)\n",
    "gloX = IterativeImputer().fit_transform(gloT)\n",
    "eduX= IterativeImputer().fit_transform(eduT)\n",
    "envX= IterativeImputer().fit_transform(envT)\n",
    "matX= IterativeImputer().fit_transform(matT)\n",
    "hivX= IterativeImputer().fit_transform(hivT)\n"
   ]
  },
  {
   "cell_type": "code",
   "execution_count": 74,
   "metadata": {},
   "outputs": [
    {
     "data": {
      "text/html": [
       "<div>\n",
       "<style scoped>\n",
       "    .dataframe tbody tr th:only-of-type {\n",
       "        vertical-align: middle;\n",
       "    }\n",
       "\n",
       "    .dataframe tbody tr th {\n",
       "        vertical-align: top;\n",
       "    }\n",
       "\n",
       "    .dataframe thead th {\n",
       "        text-align: right;\n",
       "    }\n",
       "</style>\n",
       "<table border=\"1\" class=\"dataframe\">\n",
       "  <thead>\n",
       "    <tr style=\"text-align: right;\">\n",
       "      <th></th>\n",
       "      <th>0</th>\n",
       "      <th>1</th>\n",
       "      <th>2</th>\n",
       "      <th>3</th>\n",
       "      <th>4</th>\n",
       "      <th>5</th>\n",
       "      <th>6</th>\n",
       "      <th>7</th>\n",
       "      <th>8</th>\n",
       "      <th>9</th>\n",
       "      <th>...</th>\n",
       "      <th>182</th>\n",
       "      <th>183</th>\n",
       "      <th>184</th>\n",
       "      <th>185</th>\n",
       "      <th>186</th>\n",
       "      <th>187</th>\n",
       "      <th>188</th>\n",
       "      <th>189</th>\n",
       "      <th>190</th>\n",
       "      <th>191</th>\n",
       "    </tr>\n",
       "  </thead>\n",
       "  <tbody>\n",
       "    <tr>\n",
       "      <th>0</th>\n",
       "      <td>0.117700</td>\n",
       "      <td>0.022200</td>\n",
       "      <td>0.026300</td>\n",
       "      <td>0.004100</td>\n",
       "      <td>0.1942</td>\n",
       "      <td>0.0128</td>\n",
       "      <td>0.0171</td>\n",
       "      <td>0.023400</td>\n",
       "      <td>0.005600</td>\n",
       "      <td>0.0048</td>\n",
       "      <td>...</td>\n",
       "      <td>0.0080</td>\n",
       "      <td>0.0155</td>\n",
       "      <td>0.050600</td>\n",
       "      <td>0.0220</td>\n",
       "      <td>0.0184</td>\n",
       "      <td>0.026100</td>\n",
       "      <td>0.026700</td>\n",
       "      <td>0.0778</td>\n",
       "      <td>0.127000</td>\n",
       "      <td>0.096600</td>\n",
       "    </tr>\n",
       "    <tr>\n",
       "      <th>1</th>\n",
       "      <td>0.114500</td>\n",
       "      <td>0.021200</td>\n",
       "      <td>0.025100</td>\n",
       "      <td>0.004000</td>\n",
       "      <td>0.1911</td>\n",
       "      <td>0.0123</td>\n",
       "      <td>0.0165</td>\n",
       "      <td>0.022300</td>\n",
       "      <td>0.005500</td>\n",
       "      <td>0.0046</td>\n",
       "      <td>...</td>\n",
       "      <td>0.0079</td>\n",
       "      <td>0.0146</td>\n",
       "      <td>0.048900</td>\n",
       "      <td>0.0214</td>\n",
       "      <td>0.0178</td>\n",
       "      <td>0.025200</td>\n",
       "      <td>0.026200</td>\n",
       "      <td>0.0746</td>\n",
       "      <td>0.120400</td>\n",
       "      <td>0.095800</td>\n",
       "    </tr>\n",
       "    <tr>\n",
       "      <th>2</th>\n",
       "      <td>0.111500</td>\n",
       "      <td>0.020300</td>\n",
       "      <td>0.024100</td>\n",
       "      <td>0.003800</td>\n",
       "      <td>0.1871</td>\n",
       "      <td>0.0118</td>\n",
       "      <td>0.0159</td>\n",
       "      <td>0.021100</td>\n",
       "      <td>0.005300</td>\n",
       "      <td>0.0044</td>\n",
       "      <td>...</td>\n",
       "      <td>0.0078</td>\n",
       "      <td>0.0134</td>\n",
       "      <td>0.047300</td>\n",
       "      <td>0.0208</td>\n",
       "      <td>0.0172</td>\n",
       "      <td>0.024500</td>\n",
       "      <td>0.025600</td>\n",
       "      <td>0.0717</td>\n",
       "      <td>0.114600</td>\n",
       "      <td>0.096000</td>\n",
       "    </tr>\n",
       "    <tr>\n",
       "      <th>3</th>\n",
       "      <td>0.114567</td>\n",
       "      <td>0.021233</td>\n",
       "      <td>0.025167</td>\n",
       "      <td>0.003967</td>\n",
       "      <td>0.1908</td>\n",
       "      <td>0.0123</td>\n",
       "      <td>0.0165</td>\n",
       "      <td>0.022267</td>\n",
       "      <td>0.005467</td>\n",
       "      <td>0.0046</td>\n",
       "      <td>...</td>\n",
       "      <td>0.0079</td>\n",
       "      <td>0.0145</td>\n",
       "      <td>0.048933</td>\n",
       "      <td>0.0214</td>\n",
       "      <td>0.0178</td>\n",
       "      <td>0.025267</td>\n",
       "      <td>0.026167</td>\n",
       "      <td>0.0747</td>\n",
       "      <td>0.120667</td>\n",
       "      <td>0.096133</td>\n",
       "    </tr>\n",
       "  </tbody>\n",
       "</table>\n",
       "<p>4 rows × 192 columns</p>\n",
       "</div>"
      ],
      "text/plain": [
       "        0         1         2         3       4       5       6         7    \\\n",
       "0  0.117700  0.022200  0.026300  0.004100  0.1942  0.0128  0.0171  0.023400   \n",
       "1  0.114500  0.021200  0.025100  0.004000  0.1911  0.0123  0.0165  0.022300   \n",
       "2  0.111500  0.020300  0.024100  0.003800  0.1871  0.0118  0.0159  0.021100   \n",
       "3  0.114567  0.021233  0.025167  0.003967  0.1908  0.0123  0.0165  0.022267   \n",
       "\n",
       "        8       9      ...        182     183       184     185     186  \\\n",
       "0  0.005600  0.0048    ...     0.0080  0.0155  0.050600  0.0220  0.0184   \n",
       "1  0.005500  0.0046    ...     0.0079  0.0146  0.048900  0.0214  0.0178   \n",
       "2  0.005300  0.0044    ...     0.0078  0.0134  0.047300  0.0208  0.0172   \n",
       "3  0.005467  0.0046    ...     0.0079  0.0145  0.048933  0.0214  0.0178   \n",
       "\n",
       "        187       188     189       190       191  \n",
       "0  0.026100  0.026700  0.0778  0.127000  0.096600  \n",
       "1  0.025200  0.026200  0.0746  0.120400  0.095800  \n",
       "2  0.024500  0.025600  0.0717  0.114600  0.096000  \n",
       "3  0.025267  0.026167  0.0747  0.120667  0.096133  \n",
       "\n",
       "[4 rows x 192 columns]"
      ]
     },
     "execution_count": 74,
     "metadata": {},
     "output_type": "execute_result"
    }
   ],
   "source": [
    "chiX=pd.DataFrame(chiX)\n",
    "chiX.head(5)"
   ]
  },
  {
   "cell_type": "markdown",
   "metadata": {},
   "source": [
    "## Forward And Backward Filling"
   ]
  },
  {
   "cell_type": "code",
   "execution_count": 19,
   "metadata": {},
   "outputs": [
    {
     "data": {
      "text/html": [
       "<div>\n",
       "<style scoped>\n",
       "    .dataframe tbody tr th:only-of-type {\n",
       "        vertical-align: middle;\n",
       "    }\n",
       "\n",
       "    .dataframe tbody tr th {\n",
       "        vertical-align: top;\n",
       "    }\n",
       "\n",
       "    .dataframe thead th {\n",
       "        text-align: right;\n",
       "    }\n",
       "</style>\n",
       "<table border=\"1\" class=\"dataframe\">\n",
       "  <thead>\n",
       "    <tr style=\"text-align: right;\">\n",
       "      <th></th>\n",
       "      <th>1972 [YR1972]</th>\n",
       "      <th>1973 [YR1973]</th>\n",
       "      <th>1974 [YR1974]</th>\n",
       "      <th>1975 [YR1975]</th>\n",
       "      <th>1976 [YR1976]</th>\n",
       "      <th>1977 [YR1977]</th>\n",
       "      <th>1978 [YR1978]</th>\n",
       "      <th>1979 [YR1979]</th>\n",
       "      <th>1980 [YR1980]</th>\n",
       "      <th>1981 [YR1981]</th>\n",
       "      <th>...</th>\n",
       "      <th>1998 [YR1998]</th>\n",
       "      <th>1999 [YR1999]</th>\n",
       "      <th>2000 [YR2000]</th>\n",
       "      <th>2001 [YR2001]</th>\n",
       "      <th>2002 [YR2002]</th>\n",
       "      <th>2003 [YR2003]</th>\n",
       "      <th>2004 [YR2004]</th>\n",
       "      <th>2005 [YR2005]</th>\n",
       "      <th>2006 [YR2006]</th>\n",
       "      <th>2007 [YR2007]</th>\n",
       "    </tr>\n",
       "  </thead>\n",
       "  <tbody>\n",
       "    <tr>\n",
       "      <th>12</th>\n",
       "      <td>0.267007</td>\n",
       "      <td>0.267007</td>\n",
       "      <td>0.267007</td>\n",
       "      <td>0.267007</td>\n",
       "      <td>0.267007</td>\n",
       "      <td>0.267007</td>\n",
       "      <td>0.267007</td>\n",
       "      <td>0.267007</td>\n",
       "      <td>0.267007</td>\n",
       "      <td>0.267007</td>\n",
       "      <td>...</td>\n",
       "      <td>0.279609</td>\n",
       "      <td>0.279609</td>\n",
       "      <td>0.279609</td>\n",
       "      <td>0.279609</td>\n",
       "      <td>0.279609</td>\n",
       "      <td>0.279609</td>\n",
       "      <td>0.279609</td>\n",
       "      <td>0.279609</td>\n",
       "      <td>0.279609</td>\n",
       "      <td>0.279609</td>\n",
       "    </tr>\n",
       "    <tr>\n",
       "      <th>895</th>\n",
       "      <td>0.930872</td>\n",
       "      <td>0.930872</td>\n",
       "      <td>0.930872</td>\n",
       "      <td>0.930872</td>\n",
       "      <td>0.930872</td>\n",
       "      <td>0.930872</td>\n",
       "      <td>0.930872</td>\n",
       "      <td>0.930872</td>\n",
       "      <td>0.930872</td>\n",
       "      <td>0.930872</td>\n",
       "      <td>...</td>\n",
       "      <td>0.930872</td>\n",
       "      <td>0.930872</td>\n",
       "      <td>0.936025</td>\n",
       "      <td>0.934958</td>\n",
       "      <td>0.934958</td>\n",
       "      <td>0.912493</td>\n",
       "      <td>0.912493</td>\n",
       "      <td>0.912493</td>\n",
       "      <td>0.912493</td>\n",
       "      <td>0.912493</td>\n",
       "    </tr>\n",
       "    <tr>\n",
       "      <th>2100</th>\n",
       "      <td>0.676752</td>\n",
       "      <td>0.676752</td>\n",
       "      <td>0.717112</td>\n",
       "      <td>0.740751</td>\n",
       "      <td>0.758748</td>\n",
       "      <td>0.773166</td>\n",
       "      <td>0.782735</td>\n",
       "      <td>0.782891</td>\n",
       "      <td>0.793252</td>\n",
       "      <td>0.795066</td>\n",
       "      <td>...</td>\n",
       "      <td>0.844342</td>\n",
       "      <td>0.878822</td>\n",
       "      <td>0.890507</td>\n",
       "      <td>0.915648</td>\n",
       "      <td>0.932315</td>\n",
       "      <td>0.939567</td>\n",
       "      <td>0.946588</td>\n",
       "      <td>0.946235</td>\n",
       "      <td>0.942501</td>\n",
       "      <td>0.939003</td>\n",
       "    </tr>\n",
       "    <tr>\n",
       "      <th>3643</th>\n",
       "      <td>0.525216</td>\n",
       "      <td>0.525216</td>\n",
       "      <td>0.525216</td>\n",
       "      <td>0.525216</td>\n",
       "      <td>0.525216</td>\n",
       "      <td>0.525216</td>\n",
       "      <td>0.525216</td>\n",
       "      <td>0.525216</td>\n",
       "      <td>0.525216</td>\n",
       "      <td>0.525216</td>\n",
       "      <td>...</td>\n",
       "      <td>0.535690</td>\n",
       "      <td>0.535690</td>\n",
       "      <td>0.535690</td>\n",
       "      <td>0.535690</td>\n",
       "      <td>0.535690</td>\n",
       "      <td>0.535690</td>\n",
       "      <td>0.535690</td>\n",
       "      <td>0.535690</td>\n",
       "      <td>0.535690</td>\n",
       "      <td>0.535690</td>\n",
       "    </tr>\n",
       "    <tr>\n",
       "      <th>4712</th>\n",
       "      <td>0.918215</td>\n",
       "      <td>0.918215</td>\n",
       "      <td>0.918215</td>\n",
       "      <td>0.918215</td>\n",
       "      <td>0.918215</td>\n",
       "      <td>0.918215</td>\n",
       "      <td>0.918215</td>\n",
       "      <td>0.918215</td>\n",
       "      <td>0.918215</td>\n",
       "      <td>0.918215</td>\n",
       "      <td>...</td>\n",
       "      <td>0.918215</td>\n",
       "      <td>0.918215</td>\n",
       "      <td>0.918215</td>\n",
       "      <td>0.918215</td>\n",
       "      <td>0.918215</td>\n",
       "      <td>0.918215</td>\n",
       "      <td>0.918215</td>\n",
       "      <td>0.918215</td>\n",
       "      <td>0.918215</td>\n",
       "      <td>0.918215</td>\n",
       "    </tr>\n",
       "  </tbody>\n",
       "</table>\n",
       "<p>5 rows × 36 columns</p>\n",
       "</div>"
      ],
      "text/plain": [
       "      1972 [YR1972]  1973 [YR1973]  1974 [YR1974]  1975 [YR1975]  \\\n",
       "12         0.267007       0.267007       0.267007       0.267007   \n",
       "895        0.930872       0.930872       0.930872       0.930872   \n",
       "2100       0.676752       0.676752       0.717112       0.740751   \n",
       "3643       0.525216       0.525216       0.525216       0.525216   \n",
       "4712       0.918215       0.918215       0.918215       0.918215   \n",
       "\n",
       "      1976 [YR1976]  1977 [YR1977]  1978 [YR1978]  1979 [YR1979]  \\\n",
       "12         0.267007       0.267007       0.267007       0.267007   \n",
       "895        0.930872       0.930872       0.930872       0.930872   \n",
       "2100       0.758748       0.773166       0.782735       0.782891   \n",
       "3643       0.525216       0.525216       0.525216       0.525216   \n",
       "4712       0.918215       0.918215       0.918215       0.918215   \n",
       "\n",
       "      1980 [YR1980]  1981 [YR1981]      ...        1998 [YR1998]  \\\n",
       "12         0.267007       0.267007      ...             0.279609   \n",
       "895        0.930872       0.930872      ...             0.930872   \n",
       "2100       0.793252       0.795066      ...             0.844342   \n",
       "3643       0.525216       0.525216      ...             0.535690   \n",
       "4712       0.918215       0.918215      ...             0.918215   \n",
       "\n",
       "      1999 [YR1999]  2000 [YR2000]  2001 [YR2001]  2002 [YR2002]  \\\n",
       "12         0.279609       0.279609       0.279609       0.279609   \n",
       "895        0.930872       0.936025       0.934958       0.934958   \n",
       "2100       0.878822       0.890507       0.915648       0.932315   \n",
       "3643       0.535690       0.535690       0.535690       0.535690   \n",
       "4712       0.918215       0.918215       0.918215       0.918215   \n",
       "\n",
       "      2003 [YR2003]  2004 [YR2004]  2005 [YR2005]  2006 [YR2006]  \\\n",
       "12         0.279609       0.279609       0.279609       0.279609   \n",
       "895        0.912493       0.912493       0.912493       0.912493   \n",
       "2100       0.939567       0.946588       0.946235       0.942501   \n",
       "3643       0.535690       0.535690       0.535690       0.535690   \n",
       "4712       0.918215       0.918215       0.918215       0.918215   \n",
       "\n",
       "      2007 [YR2007]  \n",
       "12         0.279609  \n",
       "895        0.912493  \n",
       "2100       0.939003  \n",
       "3643       0.535690  \n",
       "4712       0.918215  \n",
       "\n",
       "[5 rows x 36 columns]"
      ]
     },
     "execution_count": 19,
     "metadata": {},
     "output_type": "execute_result"
    }
   ],
   "source": [
    "#forward filling and backward filling\n",
    "education= education.fillna(method=\"ffill\",axis=1).fillna(method=\"bfill\",axis=1)\n",
    "environment= environment.fillna(method=\"ffill\",axis=1).fillna(method=\"bfill\",axis=1)\n",
    "global_partnership=global_partnership.fillna(method=\"ffill\",axis=1).fillna(method=\"bfill\",axis=1)\n",
    "mortality= mortality.fillna(method=\"ffill\",axis=1).fillna(method=\"bfill\",axis=1)\n",
    "poverty= poverty.fillna(method=\"ffill\",axis=1).fillna(method=\"bfill\",axis=1)\n",
    "HIV=HIV.fillna(method=\"ffill\",axis=1).fillna(method=\"bfill\",axis=1)\n",
    "gender_eq=gender_eq.fillna(method=\"ffill\",axis=1).fillna(method=\"bfill\",axis=1)\n",
    "malaria= malaria.fillna(method=\"ffill\",axis=1).fillna(method=\"bfill\",axis=1)\n",
    "maternal_health=maternal_health.fillna(method=\"ffill\",axis=1).fillna(method=\"bfill\",axis=1)\n",
    "\n",
    "education.head(5)"
   ]
  },
  {
   "cell_type": "markdown",
   "metadata": {},
   "source": [
    "## Renaming the labels"
   ]
  },
  {
   "cell_type": "code",
   "execution_count": 20,
   "metadata": {},
   "outputs": [],
   "source": [
    "#Renaming the columns.\n",
    "education.columns=[1972,1973,1974,1975,1976,1977,1978,1979,1980,1981,1982,1983,1984,1985,1986,1987,1988,1989,1990,1991,1992,1993,1994,1995,1996,1997,1998,1999,2000,2001,2002,2003,2004,2005,2006,2007]\n",
    "environment.columns=[1972,1973,1974,1975,1976,1977,1978,1979,1980,1981,1982,1983,1984,1985,1986,1987,1988,1989,1990,1991,1992,1993,1994,1995,1996,1997,1998,1999,2000,2001,2002,2003,2004,2005,2006,2007]\n",
    "mortality.columns=[1972,1973,1974,1975,1976,1977,1978,1979,1980,1981,1982,1983,1984,1985,1986,1987,1988,1989,1990,1991,1992,1993,1994,1995,1996,1997,1998,1999,2000,2001,2002,2003,2004,2005,2006,2007]\n",
    "global_partnership.columns=[1972,1973,1974,1975,1976,1977,1978,1979,1980,1981,1982,1983,1984,1985,1986,1987,1988,1989,1990,1991,1992,1993,1994,1995,1996,1997,1998,1999,2000,2001,2002,2003,2004,2005,2006,2007]\n",
    "poverty.columns=[1972,1973,1974,1975,1976,1977,1978,1979,1980,1981,1982,1983,1984,1985,1986,1987,1988,1989,1990,1991,1992,1993,1994,1995,1996,1997,1998,1999,2000,2001,2002,2003,2004,2005,2006,2007]\n",
    "HIV.columns=[1972,1973,1974,1975,1976,1977,1978,1979,1980,1981,1982,1983,1984,1985,1986,1987,1988,1989,1990,1991,1992,1993,1994,1995,1996,1997,1998,1999,2000,2001,2002,2003,2004,2005,2006,2007]\n",
    "gender_eq.columns=[1972,1973,1974,1975,1976,1977,1978,1979,1980,1981,1982,1983,1984,1985,1986,1987,1988,1989,1990,1991,1992,1993,1994,1995,1996,1997,1998,1999,2000,2001,2002,2003,2004,2005,2006,2007]\n",
    "malaria.columns=[1972,1973,1974,1975,1976,1977,1978,1979,1980,1981,1982,1983,1984,1985,1986,1987,1988,1989,1990,1991,1992,1993,1994,1995,1996,1997,1998,1999,2000,2001,2002,2003,2004,2005,2006,2007]\n",
    "maternal_health.columns=[1972,1973,1974,1975,1976,1977,1978,1979,1980,1981,1982,1983,1984,1985,1986,1987,1988,1989,1990,1991,1992,1993,1994,1995,1996,1997,1998,1999,2000,2001,2002,2003,2004,2005,2006,2007]"
   ]
  },
  {
   "cell_type": "markdown",
   "metadata": {},
   "source": [
    "# Model Building"
   ]
  },
  {
   "cell_type": "markdown",
   "metadata": {},
   "source": [
    "# Linear Regression"
   ]
  },
  {
   "cell_type": "code",
   "execution_count": 23,
   "metadata": {},
   "outputs": [],
   "source": [
    "from sklearn.linear_model import LinearRegression"
   ]
  },
  {
   "cell_type": "code",
   "execution_count": 26,
   "metadata": {},
   "outputs": [],
   "source": [
    "#extracting the numeric rows from the data\n",
    "#education= education.loc[:,education.columns[33]:education.columns[35]]\n",
    "environment= environment.loc[:,environment.columns[33]:environment.columns[35]]\n",
    "#global_partnership= global_partnership.loc[:,global_partnership.columns[33]:global_partnership.columns[35]]\n",
    "#mortality=mortality.loc[:,mortality.columns[33]:mortality.columns[35]]\n",
    "#poverty=poverty.loc[:,poverty.columns[33]:poverty.columns[35]]\n",
    "#HIV= HIV.loc[:,HIV.columns[33]:HIV.columns[35]]\n",
    "#gender_eq=gender_eq.loc[:,gender_eq.columns[33]:gender_eq.columns[35]]\n",
    "#malaria= malaria.loc[:,malaria.columns[33]:malaria.columns[35]]\n",
    "#maternal_health=maternal_health.loc[:,maternal_health.columns[33]:maternal_health.columns[35]]"
   ]
  },
  {
   "cell_type": "code",
   "execution_count": 27,
   "metadata": {},
   "outputs": [],
   "source": [
    "y=[[2005],[2006],[2007]]\n",
    "#y=[[2006],[2007],[2008]]\n",
    "#y=[[2007],[2008],[2009]]\n",
    "#y=[[2008],[2009],[2010]]\n",
    "#y=[[2009],[2010],[2011]]"
   ]
  },
  {
   "cell_type": "code",
   "execution_count": 28,
   "metadata": {},
   "outputs": [],
   "source": [
    "z=[]\n",
    "X_predict=[[2008]]\n",
    "model=LinearRegression()\n",
    "j=0\n",
    "#while j <=183:\n",
    "#while j<=104:\n",
    "#while j<=122:\n",
    "#while j<=177:\n",
    "#while j<=199:\n",
    "#while j<=191:\n",
    "#while j<=53:\n",
    "#while j<=205:\n",
    "while j<=198:\n",
    "    #a=pd.DataFrame([education.iloc[j,:]])\n",
    "    #a=pd.DataFrame([HIV.iloc[j,:]])\n",
    "    #a=pd.DataFrame([poverty.iloc[j,:]])\n",
    "    #a=pd.DataFrame([maternal_health.iloc[j,:]])\n",
    "    #a=pd.DataFrame([gender_eq.iloc[j,:]])\n",
    "    #a=pd.DataFrame([mortality.iloc[j,:]])\n",
    "    #a=pd.DataFrame([malaria.iloc[j,:]])\n",
    "    #a=pd.DataFrame([global_partnership.iloc[j,:]])\n",
    "    a=pd.DataFrame([environment.iloc[j,:]])\n",
    "    model.fit(y,a.T)\n",
    "    y_predict= model.predict(X_predict)\n",
    "    j=j+1\n",
    "    z.append(y_predict)\n",
    "dff= pd.DataFrame([z])"
   ]
  },
  {
   "cell_type": "code",
   "execution_count": 29,
   "metadata": {},
   "outputs": [],
   "source": [
    "ab=dff.T"
   ]
  },
  {
   "cell_type": "code",
   "execution_count": 30,
   "metadata": {},
   "outputs": [
    {
     "data": {
      "text/html": [
       "<div>\n",
       "<style scoped>\n",
       "    .dataframe tbody tr th:only-of-type {\n",
       "        vertical-align: middle;\n",
       "    }\n",
       "\n",
       "    .dataframe tbody tr th {\n",
       "        vertical-align: top;\n",
       "    }\n",
       "\n",
       "    .dataframe thead th {\n",
       "        text-align: right;\n",
       "    }\n",
       "</style>\n",
       "<table border=\"1\" class=\"dataframe\">\n",
       "  <thead>\n",
       "    <tr style=\"text-align: right;\">\n",
       "      <th></th>\n",
       "      <th>0</th>\n",
       "    </tr>\n",
       "  </thead>\n",
       "  <tbody>\n",
       "    <tr>\n",
       "      <th>0</th>\n",
       "      <td>0.500000</td>\n",
       "    </tr>\n",
       "    <tr>\n",
       "      <th>1</th>\n",
       "      <td>0.960667</td>\n",
       "    </tr>\n",
       "    <tr>\n",
       "      <th>2</th>\n",
       "      <td>0.836667</td>\n",
       "    </tr>\n",
       "    <tr>\n",
       "      <th>3</th>\n",
       "      <td>1.000667</td>\n",
       "    </tr>\n",
       "    <tr>\n",
       "      <th>4</th>\n",
       "      <td>1.000000</td>\n",
       "    </tr>\n",
       "  </tbody>\n",
       "</table>\n",
       "</div>"
      ],
      "text/plain": [
       "          0\n",
       "0  0.500000\n",
       "1  0.960667\n",
       "2  0.836667\n",
       "3  1.000667\n",
       "4  1.000000"
      ]
     },
     "execution_count": 30,
     "metadata": {},
     "output_type": "execute_result"
    }
   ],
   "source": [
    "ab=pd.DataFrame(ab)\n",
    "ab=ab.replace('[[]]','',regex=True).astype(float)\n",
    "ab.head(5)"
   ]
  },
  {
   "cell_type": "code",
   "execution_count": 31,
   "metadata": {},
   "outputs": [],
   "source": [
    "#education=education.assign(ab=ab.values)\n",
    "#HIV=HIV.assign(ab=ab.values)\n",
    "#poverty=poverty.assign(ab=ab.values)\n",
    "#maternal_health=maternal_health.assign(ab=ab.values)\n",
    "#gender_eq=gender_eq.assign(ab=ab.values)\n",
    "#mortality=mortality.assign(ab=ab.values)\n",
    "#malaria=malaria.assign(ab=ab.values)\n",
    "#global_partnership=global_partnership.assign(ab=ab.values)\n",
    "environment=environment.assign(ab=ab.values)"
   ]
  },
  {
   "cell_type": "code",
   "execution_count": 32,
   "metadata": {},
   "outputs": [],
   "source": [
    "#education.rename(columns={'ab':2012},inplace=True)\n",
    "#HIV.rename(columns={'ab':2012},inplace=True)\n",
    "#poverty.rename(columns={'ab':2012},inplace=True)\n",
    "#maternal_health.rename(columns={'ab':2012},inplace=True)\n",
    "#gender_eq.rename(columns={'ab':2012},inplace=True)\n",
    "#mortality.rename(columns={'ab':2012},inplace=True)\n",
    "#malaria.rename(columns={'ab':2012},inplace=True)\n",
    "#global_partnership.rename(columns={'ab':2012},inplace=True)\n",
    "environment.rename(columns={'ab':2008},inplace=True)"
   ]
  },
  {
   "cell_type": "code",
   "execution_count": 33,
   "metadata": {},
   "outputs": [
    {
     "data": {
      "text/html": [
       "<div>\n",
       "<style scoped>\n",
       "    .dataframe tbody tr th:only-of-type {\n",
       "        vertical-align: middle;\n",
       "    }\n",
       "\n",
       "    .dataframe tbody tr th {\n",
       "        vertical-align: top;\n",
       "    }\n",
       "\n",
       "    .dataframe thead th {\n",
       "        text-align: right;\n",
       "    }\n",
       "</style>\n",
       "<table border=\"1\" class=\"dataframe\">\n",
       "  <thead>\n",
       "    <tr style=\"text-align: right;\">\n",
       "      <th></th>\n",
       "      <th>2005</th>\n",
       "      <th>2006</th>\n",
       "      <th>2007</th>\n",
       "      <th>2008</th>\n",
       "    </tr>\n",
       "  </thead>\n",
       "  <tbody>\n",
       "    <tr>\n",
       "      <th>336</th>\n",
       "      <td>0.395</td>\n",
       "      <td>0.430</td>\n",
       "      <td>0.465</td>\n",
       "      <td>0.500000</td>\n",
       "    </tr>\n",
       "    <tr>\n",
       "      <th>1405</th>\n",
       "      <td>0.962</td>\n",
       "      <td>0.962</td>\n",
       "      <td>0.961</td>\n",
       "      <td>0.960667</td>\n",
       "    </tr>\n",
       "    <tr>\n",
       "      <th>2571</th>\n",
       "      <td>0.859</td>\n",
       "      <td>0.852</td>\n",
       "      <td>0.844</td>\n",
       "      <td>0.836667</td>\n",
       "    </tr>\n",
       "    <tr>\n",
       "      <th>3323</th>\n",
       "      <td>0.999</td>\n",
       "      <td>1.000</td>\n",
       "      <td>1.000</td>\n",
       "      <td>1.000667</td>\n",
       "    </tr>\n",
       "    <tr>\n",
       "      <th>3523</th>\n",
       "      <td>1.000</td>\n",
       "      <td>1.000</td>\n",
       "      <td>1.000</td>\n",
       "      <td>1.000000</td>\n",
       "    </tr>\n",
       "  </tbody>\n",
       "</table>\n",
       "</div>"
      ],
      "text/plain": [
       "       2005   2006   2007      2008\n",
       "336   0.395  0.430  0.465  0.500000\n",
       "1405  0.962  0.962  0.961  0.960667\n",
       "2571  0.859  0.852  0.844  0.836667\n",
       "3323  0.999  1.000  1.000  1.000667\n",
       "3523  1.000  1.000  1.000  1.000000"
      ]
     },
     "execution_count": 33,
     "metadata": {},
     "output_type": "execute_result"
    }
   ],
   "source": [
    "environment.head(5)"
   ]
  },
  {
   "cell_type": "code",
   "execution_count": null,
   "metadata": {},
   "outputs": [],
   "source": [
    "r_index=submission[submission.columns[0]]\n",
    "#r_index=pd.DataFrame(r_index)"
   ]
  },
  {
   "cell_type": "code",
   "execution_count": null,
   "metadata": {},
   "outputs": [],
   "source": [
    "count=0\n",
    "for i in r_index:\n",
    "    for j in environment[environment.columns[7]]:\n",
    "        if i==j:\n",
    "            #count=count+1\n",
    "            #print(i)\n",
    "            #a=pd.DataFrame(education.loc[education['ind']==i])\n",
    "            #a=pd.DataFrame(HIV.loc[HIV['ind']==i])\n",
    "            #a=pd.DataFrame(poverty.loc[poverty['ind']==i])\n",
    "            #a=pd.DataFrame(maternal_health.loc[maternal_health['ind']==i])\n",
    "            #a=pd.DataFrame(gender_eq.loc[gender_eq['ind']==i])\n",
    "            #a=pd.DataFrame(mortality.loc[mortality['ind']==i])\n",
    "            #a=pd.DataFrame(malaria.loc[malaria['ind']==i])\n",
    "            #a=pd.DataFrame(global_partnership.loc[global_partnership['ind']==i])\n",
    "            a=pd.DataFrame(environment.loc[environment['ind']==i])\n",
    "            a.to_csv(\"try2.csv\",mode='a',encoding='utf-8',index=False,header=False)\n",
    "    #print(count)"
   ]
  },
  {
   "cell_type": "code",
   "execution_count": null,
   "metadata": {},
   "outputs": [],
   "source": [
    "#edu= training.loc[training['Series Code']=='2.1']\n",
    "#hiv= training.loc[training['Series Code']=='6.1']\n",
    "#pov=training.loc[training['Series Code']=='1.2']\n",
    "#mat=training.loc[training['Series Code']=='5.1']\n",
    "#gen=training.loc[training['Series Code']=='3.2']\n",
    "#mor=training.loc[training['Series Code']=='4.1']\n",
    "#mal=training.loc[training['Series Code']=='6.7']\n",
    "#glo=training.loc[training['Series Code']=='8.16']\n",
    "env=training.loc[training['Series Code']=='7.8']"
   ]
  },
  {
   "cell_type": "code",
   "execution_count": null,
   "metadata": {},
   "outputs": [],
   "source": [
    "#aa=edu.iloc[:,0]\n",
    "#aa=hiv.iloc[:,0]\n",
    "#aa=pov.iloc[:,0]\n",
    "#aa=mat.iloc[:,0]\n",
    "#aa=gen.iloc[:,0]\n",
    "#aa=mor.iloc[:,0]\n",
    "#aa=mal.iloc[:,0]\n",
    "#aa=glo.iloc[:,0]\n",
    "aa=env.iloc[:,0]\n",
    "\n",
    "#education=education.assign(ind=aa.values)\n",
    "#HIV=HIV.assign(ind=aa.values)\n",
    "#poverty=poverty.assign(ind=aa.values)\n",
    "#maternal_health=maternal_health.assign(ind=aa.values)\n",
    "#gender_eq=gender_eq.assign(ind=aa.values)\n",
    "#mortality=mortality.assign(ind=aa.values)\n",
    "#malaria=malaria.assign(ind=aa.values)\n",
    "#global_partnership=global_partnership.assign(ind=aa.values)\n",
    "environment=environment.assign(ind=aa.values)"
   ]
  },
  {
   "cell_type": "code",
   "execution_count": 34,
   "metadata": {},
   "outputs": [],
   "source": [
    "sub=pd.read_csv(\"C:\\\\Users\\\\anshu\\\\Desktop\\\\dma project\\\\try\\\\try2.csv\")"
   ]
  },
  {
   "cell_type": "code",
   "execution_count": 35,
   "metadata": {},
   "outputs": [],
   "source": [
    "#Y=[2005,2006,2007,2008,2009,2010,2011,2012,'ind']\n",
    "#sub.columns=Y\n",
    "sub.sort_values(ascending=True,inplace=True,by='ind')"
   ]
  },
  {
   "cell_type": "code",
   "execution_count": 37,
   "metadata": {},
   "outputs": [
    {
     "name": "stdout",
     "output_type": "stream",
     "text": [
      "583    0.500000\n",
      "383    0.016929\n",
      "190    0.108500\n",
      "81     0.001000\n",
      "584    0.960000\n",
      "Name: 2008, dtype: float64\n",
      "583    0.640000\n",
      "383    0.008644\n",
      "190    0.096500\n",
      "81     0.001000\n",
      "584    0.956000\n",
      "Name: 2012, dtype: float64\n"
     ]
    }
   ],
   "source": [
    "a=sub['2008']\n",
    "b=sub['2012']\n",
    "print(a.head(5))\n",
    "print(b.head(5))"
   ]
  },
  {
   "cell_type": "markdown",
   "metadata": {},
   "source": [
    "# Ridge Regression"
   ]
  },
  {
   "cell_type": "code",
   "execution_count": 43,
   "metadata": {},
   "outputs": [],
   "source": [
    "from sklearn.linear_model import Ridge\n",
    "ridgereg= Ridge(alpha=0.01)"
   ]
  },
  {
   "cell_type": "code",
   "execution_count": 46,
   "metadata": {},
   "outputs": [],
   "source": [
    "#extracting the numeric rows from the data\n",
    "#education= education.loc[:,education.columns[33]:education.columns[35]]\n",
    "#environment= environment.loc[:,environment.columns[33]:environment.columns[35]]\n",
    "global_partnership= global_partnership.loc[:,global_partnership.columns[33]:global_partnership.columns[35]]\n",
    "#mortality=mortality.loc[:,mortality.columns[33]:mortality.columns[35]]\n",
    "#poverty=poverty.loc[:,poverty.columns[33]:poverty.columns[35]]\n",
    "#HIV= HIV.loc[:,HIV.columns[33]:HIV.columns[35]]\n",
    "#gender_eq=gender_eq.loc[:,gender_eq.columns[33]:gender_eq.columns[35]]\n",
    "#malaria= malaria.loc[:,malaria.columns[33]:malaria.columns[35]]\n",
    "#maternal_health=maternal_health.loc[:,maternal_health.columns[33]:maternal_health.columns[35]]"
   ]
  },
  {
   "cell_type": "code",
   "execution_count": 49,
   "metadata": {},
   "outputs": [],
   "source": [
    "y=[[2005],[2006],[2007]]\n",
    "#y=[[2006],[2007],[2008]]\n",
    "#y=[[2007],[2008],[2009]]\n",
    "#y=[[2008],[2009],[2010]]\n",
    "#y=[[2009],[2010],[2011]]"
   ]
  },
  {
   "cell_type": "code",
   "execution_count": 50,
   "metadata": {},
   "outputs": [],
   "source": [
    "z=[]\n",
    "X_predict=[[2008]]\n",
    "#model=LinearRegression()\n",
    "j=0\n",
    "#while j <=183:\n",
    "#while j<=104:\n",
    "#while j<=122:\n",
    "#while j<=177:\n",
    "#while j<=199:\n",
    "#while j<=191:\n",
    "#while j<=53:\n",
    "while j<=205:\n",
    "#while j<=198:\n",
    "    #a=pd.DataFrame([education.iloc[j,:]])\n",
    "    #a=pd.DataFrame([HIV.iloc[j,:]])\n",
    "    #a=pd.DataFrame([poverty.iloc[j,:]])\n",
    "    #a=pd.DataFrame([maternal_health.iloc[j,:]])\n",
    "    #a=pd.DataFrame([gender_eq.iloc[j,:]])\n",
    "    #a=pd.DataFrame([mortality.iloc[j,:]])\n",
    "    #a=pd.DataFrame([malaria.iloc[j,:]])\n",
    "    a=pd.DataFrame([global_partnership.iloc[j,:]])\n",
    "    #a=pd.DataFrame([environment.iloc[j,:]])\n",
    "    ridgereg.fit(y,a.T)\n",
    "    #model.fit(y,a.T)\n",
    "    y_predict= ridgereg.predict(X_predict)\n",
    "    j=j+1\n",
    "    z.append(y_predict)\n",
    "dff= pd.DataFrame([z])"
   ]
  },
  {
   "cell_type": "code",
   "execution_count": 51,
   "metadata": {},
   "outputs": [
    {
     "data": {
      "text/html": [
       "<div>\n",
       "<style scoped>\n",
       "    .dataframe tbody tr th:only-of-type {\n",
       "        vertical-align: middle;\n",
       "    }\n",
       "\n",
       "    .dataframe tbody tr th {\n",
       "        vertical-align: top;\n",
       "    }\n",
       "\n",
       "    .dataframe thead th {\n",
       "        text-align: right;\n",
       "    }\n",
       "</style>\n",
       "<table border=\"1\" class=\"dataframe\">\n",
       "  <thead>\n",
       "    <tr style=\"text-align: right;\">\n",
       "      <th></th>\n",
       "      <th>0</th>\n",
       "    </tr>\n",
       "  </thead>\n",
       "  <tbody>\n",
       "    <tr>\n",
       "      <th>0</th>\n",
       "      <td>0.024162</td>\n",
       "    </tr>\n",
       "    <tr>\n",
       "      <th>1</th>\n",
       "      <td>0.191775</td>\n",
       "    </tr>\n",
       "    <tr>\n",
       "      <th>2</th>\n",
       "      <td>0.111463</td>\n",
       "    </tr>\n",
       "    <tr>\n",
       "      <th>3</th>\n",
       "      <td>0.000000</td>\n",
       "    </tr>\n",
       "    <tr>\n",
       "      <th>4</th>\n",
       "      <td>0.855696</td>\n",
       "    </tr>\n",
       "  </tbody>\n",
       "</table>\n",
       "</div>"
      ],
      "text/plain": [
       "          0\n",
       "0  0.024162\n",
       "1  0.191775\n",
       "2  0.111463\n",
       "3  0.000000\n",
       "4  0.855696"
      ]
     },
     "execution_count": 51,
     "metadata": {},
     "output_type": "execute_result"
    }
   ],
   "source": [
    "ab=dff.T\n",
    "ab=pd.DataFrame(ab)\n",
    "ab=ab.replace('[[]]','',regex=True).astype(float)\n",
    "ab.head(5)"
   ]
  },
  {
   "cell_type": "code",
   "execution_count": 52,
   "metadata": {},
   "outputs": [],
   "source": [
    "#education=education.assign(ab=ab.values)\n",
    "#HIV=HIV.assign(ab=ab.values)\n",
    "#poverty=poverty.assign(ab=ab.values)\n",
    "#maternal_health=maternal_health.assign(ab=ab.values)\n",
    "#gender_eq=gender_eq.assign(ab=ab.values)\n",
    "#mortality=mortality.assign(ab=ab.values)\n",
    "#malaria=malaria.assign(ab=ab.values)\n",
    "global_partnership=global_partnership.assign(ab=ab.values)\n",
    "#environment=environment.assign(ab=ab.values)"
   ]
  },
  {
   "cell_type": "code",
   "execution_count": 53,
   "metadata": {},
   "outputs": [],
   "source": [
    "#education.rename(columns={'ab':2012},inplace=True)\n",
    "#HIV.rename(columns={'ab':2012},inplace=True)\n",
    "#poverty.rename(columns={'ab':2012},inplace=True)\n",
    "#maternal_health.rename(columns={'ab':2012},inplace=True)\n",
    "#gender_eq.rename(columns={'ab':2012},inplace=True)\n",
    "#mortality.rename(columns={'ab':2012},inplace=True)\n",
    "#malaria.rename(columns={'ab':2012},inplace=True)\n",
    "global_partnership.rename(columns={'ab':2008},inplace=True)\n",
    "#environment.rename(columns={'ab':2012},inplace=True)"
   ]
  },
  {
   "cell_type": "code",
   "execution_count": 54,
   "metadata": {},
   "outputs": [],
   "source": [
    "#edu= training.loc[training['Series Code']=='2.1']\n",
    "#hiv= training.loc[training['Series Code']=='6.1']\n",
    "#pov=training.loc[training['Series Code']=='1.2']\n",
    "#mat=training.loc[training['Series Code']=='5.1']\n",
    "#gen=training.loc[training['Series Code']=='3.2']\n",
    "#mor=training.loc[training['Series Code']=='4.1']\n",
    "#mal=training.loc[training['Series Code']=='6.7']\n",
    "glo=training.loc[training['Series Code']=='8.16']\n",
    "#env=training.loc[training['Series Code']=='7.8']"
   ]
  },
  {
   "cell_type": "code",
   "execution_count": null,
   "metadata": {},
   "outputs": [],
   "source": [
    "#Obtaining and adding the row index value to the newly appended data chunk\n",
    "\n",
    "\n",
    "#aa=edu.iloc[:,0]\n",
    "#aa=hiv.iloc[:,0]\n",
    "#aa=pov.iloc[:,0]\n",
    "#aa=mat.iloc[:,0]\n",
    "#aa=gen.iloc[:,0]\n",
    "#aa=mor.iloc[:,0]\n",
    "#aa=mal.iloc[:,0]\n",
    "aa=glo.iloc[:,0]\n",
    "#aa=env.iloc[:,0]\n",
    "\n",
    "#education=education.assign(ind=aa.values)\n",
    "#HIV=HIV.assign(ind=aa.values)\n",
    "#poverty=poverty.assign(ind=aa.values)\n",
    "#maternal_health=maternal_health.assign(ind=aa.values)\n",
    "#gender_eq=gender_eq.assign(ind=aa.values)\n",
    "#mortality=mortality.assign(ind=aa.values)\n",
    "#malaria=malaria.assign(ind=aa.values)\n",
    "global_partnership=global_partnership.assign(ind=aa.values)\n",
    "#environment=environment.assign(ind=aa.values)"
   ]
  },
  {
   "cell_type": "code",
   "execution_count": null,
   "metadata": {},
   "outputs": [],
   "source": [
    "r_index=submission[submission.columns[0]]\n",
    "#r_index=pd.DataFrame(r_index)"
   ]
  },
  {
   "cell_type": "code",
   "execution_count": null,
   "metadata": {},
   "outputs": [],
   "source": [
    "count=0\n",
    "for i in r_index:\n",
    "    for j in global_partnership[global_partnership.columns[8]]:\n",
    "        if i==j:\n",
    "            #count=count+1\n",
    "            #print(i)\n",
    "            #a=pd.DataFrame(education.loc[education['ind']==i])\n",
    "            #a=pd.DataFrame(HIV.loc[HIV['ind']==i])\n",
    "            #a=pd.DataFrame(poverty.loc[poverty['ind']==i])\n",
    "            #a=pd.DataFrame(maternal_health.loc[maternal_health['ind']==i])\n",
    "            #a=pd.DataFrame(gender_eq.loc[gender_eq['ind']==i])\n",
    "            #a=pd.DataFrame(mortality.loc[mortality['ind']==i])\n",
    "            #a=pd.DataFrame(malaria.loc[malaria['ind']==i])\n",
    "            a=pd.DataFrame(global_partnership.loc[global_partnership['ind']==i])\n",
    "            #a=pd.DataFrame(environment.loc[environment['ind']==i])\n",
    "            a.to_csv(\"try3.csv\",mode='a',encoding='utf-8',index=False,header=False)\n",
    "    #print(count)"
   ]
  },
  {
   "cell_type": "code",
   "execution_count": 55,
   "metadata": {},
   "outputs": [],
   "source": [
    "sub=pd.read_csv(\"C:\\\\Users\\\\anshu\\\\Desktop\\\\dma project\\\\try\\\\try3.csv\")"
   ]
  },
  {
   "cell_type": "code",
   "execution_count": 56,
   "metadata": {},
   "outputs": [],
   "source": [
    "sub.sort_values(ascending=True,inplace=True,by='ind')"
   ]
  },
  {
   "cell_type": "code",
   "execution_count": 57,
   "metadata": {},
   "outputs": [
    {
     "name": "stdout",
     "output_type": "stream",
     "text": [
      "81     0.496667\n",
      "537    0.023874\n",
      "344    0.108662\n",
      "235    0.001000\n",
      "82     0.960714\n",
      "Name: 2008, dtype: float64\n",
      "81     0.615792\n",
      "537    0.035376\n",
      "344    0.098111\n",
      "235    0.001000\n",
      "82     0.959012\n",
      "Name: 2012, dtype: float64\n"
     ]
    }
   ],
   "source": [
    "a=sub['2008']\n",
    "b=sub['2012']\n",
    "print(a.head(5))\n",
    "print(b.head(5))"
   ]
  },
  {
   "cell_type": "markdown",
   "metadata": {},
   "source": [
    "# lasso regression( fills the same value for all the rows)"
   ]
  },
  {
   "cell_type": "code",
   "execution_count": 58,
   "metadata": {},
   "outputs": [],
   "source": [
    "from sklearn.linear_model import Lasso"
   ]
  },
  {
   "cell_type": "code",
   "execution_count": 59,
   "metadata": {},
   "outputs": [],
   "source": [
    "clf= Lasso(alpha=0.1)"
   ]
  },
  {
   "cell_type": "code",
   "execution_count": 60,
   "metadata": {},
   "outputs": [],
   "source": [
    "#extracting the numeric rows from the data\n",
    "#education= education.loc[:,education.columns[33]:education.columns[35]]\n",
    "#environment= environment.loc[:,environment.columns[33]:environment.columns[35]]\n",
    "#global_partnership= global_partnership.loc[:,global_partnership.columns[33]:global_partnership.columns[35]]\n",
    "mortality=mortality.loc[:,mortality.columns[33]:mortality.columns[35]]\n",
    "#poverty=poverty.loc[:,poverty.columns[33]:poverty.columns[35]]\n",
    "#HIV= HIV.loc[:,HIV.columns[33]:HIV.columns[35]]\n",
    "#gender_eq=gender_eq.loc[:,gender_eq.columns[33]:gender_eq.columns[35]]\n",
    "#malaria= malaria.loc[:,malaria.columns[33]:malaria.columns[35]]\n",
    "#maternal_health=maternal_health.loc[:,maternal_health.columns[33]:maternal_health.columns[35]]"
   ]
  },
  {
   "cell_type": "code",
   "execution_count": 61,
   "metadata": {},
   "outputs": [],
   "source": [
    "y=[[2005],[2006],[2007]]\n",
    "#y=[[2006],[2007],[2008]]\n",
    "#y=[[2007],[2008],[2009]]\n",
    "#y=[[2008],[2009],[2010]]\n",
    "#y=[[2009],[2010],[2011]]"
   ]
  },
  {
   "cell_type": "code",
   "execution_count": 62,
   "metadata": {},
   "outputs": [],
   "source": [
    "z=[]\n",
    "X_predict=[[2008]]\n",
    "#model=LinearRegression()\n",
    "j=0\n",
    "#while j <=183:\n",
    "#while j<=104:\n",
    "#while j<=122:\n",
    "#while j<=177:\n",
    "#while j<=199:\n",
    "while j<=191:\n",
    "#while j<=53:\n",
    "#while j<=205:\n",
    "#while j<=198:\n",
    "    #a=pd.DataFrame([education.iloc[j,:]])\n",
    "    #a=pd.DataFrame([HIV.iloc[j,:]])\n",
    "    #a=pd.DataFrame([poverty.iloc[j,:]])\n",
    "    #a=pd.DataFrame([maternal_health.iloc[j,:]])\n",
    "    #a=pd.DataFrame([gender_eq.iloc[j,:]])\n",
    "    a=pd.DataFrame([mortality.iloc[j,:]])\n",
    "    #a=pd.DataFrame([malaria.iloc[j,:]])\n",
    "    #a=pd.DataFrame([global_partnership.iloc[j,:]])\n",
    "    #a=pd.DataFrame([environment.iloc[j,:]])\n",
    "    clf.fit(y,a.T)\n",
    "    y_predict= clf.predict(X_predict)\n",
    "    j=j+1\n",
    "    z.append(y_predict)\n",
    "dff= pd.DataFrame([z])"
   ]
  },
  {
   "cell_type": "code",
   "execution_count": 63,
   "metadata": {},
   "outputs": [
    {
     "data": {
      "text/html": [
       "<div>\n",
       "<style scoped>\n",
       "    .dataframe tbody tr th:only-of-type {\n",
       "        vertical-align: middle;\n",
       "    }\n",
       "\n",
       "    .dataframe tbody tr th {\n",
       "        vertical-align: top;\n",
       "    }\n",
       "\n",
       "    .dataframe thead th {\n",
       "        text-align: right;\n",
       "    }\n",
       "</style>\n",
       "<table border=\"1\" class=\"dataframe\">\n",
       "  <thead>\n",
       "    <tr style=\"text-align: right;\">\n",
       "      <th></th>\n",
       "      <th>0</th>\n",
       "    </tr>\n",
       "  </thead>\n",
       "  <tbody>\n",
       "    <tr>\n",
       "      <th>0</th>\n",
       "      <td>0.114567</td>\n",
       "    </tr>\n",
       "    <tr>\n",
       "      <th>1</th>\n",
       "      <td>0.021233</td>\n",
       "    </tr>\n",
       "    <tr>\n",
       "      <th>2</th>\n",
       "      <td>0.025167</td>\n",
       "    </tr>\n",
       "    <tr>\n",
       "      <th>3</th>\n",
       "      <td>0.003967</td>\n",
       "    </tr>\n",
       "    <tr>\n",
       "      <th>4</th>\n",
       "      <td>0.190800</td>\n",
       "    </tr>\n",
       "  </tbody>\n",
       "</table>\n",
       "</div>"
      ],
      "text/plain": [
       "          0\n",
       "0  0.114567\n",
       "1  0.021233\n",
       "2  0.025167\n",
       "3  0.003967\n",
       "4  0.190800"
      ]
     },
     "execution_count": 63,
     "metadata": {},
     "output_type": "execute_result"
    }
   ],
   "source": [
    "ab=dff.T\n",
    "ab=pd.DataFrame(ab)\n",
    "ab=ab.replace('[[]]','',regex=True).astype(float)\n",
    "ab.head(5)"
   ]
  },
  {
   "cell_type": "code",
   "execution_count": 64,
   "metadata": {},
   "outputs": [],
   "source": [
    "#education=education.assign(ab=ab.values)\n",
    "#HIV=HIV.assign(ab=ab.values)\n",
    "#poverty=poverty.assign(ab=ab.values)\n",
    "#maternal_health=maternal_health.assign(ab=ab.values)\n",
    "#gender_eq=gender_eq.assign(ab=ab.values)\n",
    "mortality=mortality.assign(ab=ab.values)\n",
    "#malaria=malaria.assign(ab=ab.values)\n",
    "#global_partnership=global_partnership.assign(ab=ab.values)\n",
    "#environment=environment.assign(ab=ab.values)"
   ]
  },
  {
   "cell_type": "code",
   "execution_count": 65,
   "metadata": {},
   "outputs": [],
   "source": [
    "#education.rename(columns={'ab':2012},inplace=True)\n",
    "#HIV.rename(columns={'ab':2012},inplace=True)\n",
    "#poverty.rename(columns={'ab':2012},inplace=True)\n",
    "#maternal_health.rename(columns={'ab':2012},inplace=True)\n",
    "#gender_eq.rename(columns={'ab':2012},inplace=True)\n",
    "mortality.rename(columns={'ab':2008},inplace=True)\n",
    "#malaria.rename(columns={'ab':2012},inplace=True)\n",
    "#global_partnership.rename(columns={'ab':2012},inplace=True)\n",
    "#environment.rename(columns={'ab':2012},inplace=True)"
   ]
  },
  {
   "cell_type": "code",
   "execution_count": 66,
   "metadata": {},
   "outputs": [],
   "source": [
    "#edu= training.loc[training['Series Code']=='2.1']\n",
    "#hiv= training.loc[training['Series Code']=='6.1']\n",
    "#pov=training.loc[training['Series Code']=='1.2']\n",
    "#mat=training.loc[training['Series Code']=='5.1']\n",
    "#gen=training.loc[training['Series Code']=='3.2']\n",
    "mor=training.loc[training['Series Code']=='4.1']\n",
    "#mal=training.loc[training['Series Code']=='6.7']\n",
    "#glo=training.loc[training['Series Code']=='8.16']\n",
    "#env=training.loc[training['Series Code']=='7.8']"
   ]
  },
  {
   "cell_type": "code",
   "execution_count": null,
   "metadata": {},
   "outputs": [],
   "source": [
    "#aa=edu.iloc[:,0]\n",
    "#aa=hiv.iloc[:,0]\n",
    "#aa=pov.iloc[:,0]\n",
    "#aa=mat.iloc[:,0]\n",
    "#aa=gen.iloc[:,0]\n",
    "#aa=mor.iloc[:,0]\n",
    "#aa=mal.iloc[:,0]\n",
    "#aa=glo.iloc[:,0]\n",
    "aa=env.iloc[:,0]\n",
    "\n",
    "#education=education.assign(ind=aa.values)\n",
    "#HIV=HIV.assign(ind=aa.values)\n",
    "#poverty=poverty.assign(ind=aa.values)\n",
    "#maternal_health=maternal_health.assign(ind=aa.values)\n",
    "#gender_eq=gender_eq.assign(ind=aa.values)\n",
    "#mortality=mortality.assign(ind=aa.values)\n",
    "#malaria=malaria.assign(ind=aa.values)\n",
    "#global_partnership=global_partnership.assign(ind=aa.values)\n",
    "environment=environment.assign(ind=aa.values)"
   ]
  },
  {
   "cell_type": "code",
   "execution_count": null,
   "metadata": {},
   "outputs": [],
   "source": [
    "r_index=submission[submission.columns[0]]\n",
    "#r_index=pd.DataFrame(r_index)"
   ]
  },
  {
   "cell_type": "code",
   "execution_count": null,
   "metadata": {},
   "outputs": [],
   "source": [
    "count=0\n",
    "for i in r_index:\n",
    "    for j in environment[environment.columns[8]]:\n",
    "        if i==j:\n",
    "            #count=count+1\n",
    "            #print(i)\n",
    "            #a=pd.DataFrame(education.loc[education['ind']==i])\n",
    "            #a=pd.DataFrame(HIV.loc[HIV['ind']==i])\n",
    "            #a=pd.DataFrame(poverty.loc[poverty['ind']==i])\n",
    "            #a=pd.DataFrame(maternal_health.loc[maternal_health['ind']==i])\n",
    "            #a=pd.DataFrame(gender_eq.loc[gender_eq['ind']==i])\n",
    "            #a=pd.DataFrame(mortality.loc[mortality['ind']==i])\n",
    "            #a=pd.DataFrame(malaria.loc[malaria['ind']==i])\n",
    "            #a=pd.DataFrame(global_partnership.loc[global_partnership['ind']==i])\n",
    "            a=pd.DataFrame(environment.loc[environment['ind']==i])\n",
    "            a.to_csv(\"try4.csv\",mode='a',encoding='utf-8',index=False,header=False)\n",
    "    #print(count)"
   ]
  },
  {
   "cell_type": "code",
   "execution_count": 67,
   "metadata": {},
   "outputs": [],
   "source": [
    "sub=pd.read_csv(\"C:\\\\Users\\\\anshu\\\\Desktop\\\\dma project\\\\try\\\\try4.csv\")"
   ]
  },
  {
   "cell_type": "code",
   "execution_count": 68,
   "metadata": {},
   "outputs": [],
   "source": [
    "sub.sort_values(ascending=True,inplace=True,by='ind')"
   ]
  },
  {
   "cell_type": "code",
   "execution_count": 69,
   "metadata": {},
   "outputs": [
    {
     "name": "stdout",
     "output_type": "stream",
     "text": [
      "583    0.430000\n",
      "383    0.017438\n",
      "190    0.114567\n",
      "81     0.001000\n",
      "584    0.961667\n",
      "Name: 2008, dtype: float64\n",
      "583    0.430000\n",
      "383    0.017438\n",
      "190    0.114567\n",
      "81     0.001000\n",
      "584    0.961667\n",
      "Name: 2012, dtype: float64\n"
     ]
    }
   ],
   "source": [
    "a=sub['2008']\n",
    "b=sub['2012']\n",
    "print(a.head(5))\n",
    "print(b.head(5))"
   ]
  },
  {
   "cell_type": "markdown",
   "metadata": {},
   "source": [
    "#  Model Evaluation"
   ]
  },
  {
   "cell_type": "code",
   "execution_count": null,
   "metadata": {},
   "outputs": [],
   "source": [
    "from sklearn.model_selection import ShuffleSplit"
   ]
  },
  {
   "cell_type": "code",
   "execution_count": null,
   "metadata": {},
   "outputs": [],
   "source": [
    "from sklearn.metrics import mean_squared_error"
   ]
  },
  {
   "cell_type": "markdown",
   "metadata": {},
   "source": [
    "# Bias-Variance Curves"
   ]
  },
  {
   "cell_type": "markdown",
   "metadata": {},
   "source": [
    "## Linear Regression\n"
   ]
  },
  {
   "cell_type": "code",
   "execution_count": 75,
   "metadata": {},
   "outputs": [],
   "source": [
    "z=HIV[HIV.columns].T"
   ]
  },
  {
   "cell_type": "code",
   "execution_count": 81,
   "metadata": {},
   "outputs": [
    {
     "data": {
      "text/plain": [
       "array([0.006, 0.006, 0.006, 0.006, 0.006, 0.006, 0.006, 0.006, 0.006,\n",
       "       0.006, 0.006, 0.006, 0.006, 0.006, 0.006, 0.006, 0.006, 0.006,\n",
       "       0.006, 0.007, 0.009, 0.01 , 0.011, 0.013, 0.014, 0.015, 0.016,\n",
       "       0.017, 0.017, 0.018, 0.019, 0.019, 0.02 , 0.02 , 0.02 , 0.021])"
      ]
     },
     "execution_count": 81,
     "metadata": {},
     "output_type": "execute_result"
    }
   ],
   "source": [
    "z=z[z.columns[1]]\n",
    "z=z.values\n",
    "z"
   ]
  },
  {
   "cell_type": "code",
   "execution_count": 79,
   "metadata": {},
   "outputs": [],
   "source": [
    "c=training_data.columns\n",
    "c=c[1:37]"
   ]
  },
  {
   "cell_type": "code",
   "execution_count": 80,
   "metadata": {},
   "outputs": [
    {
     "data": {
      "text/plain": [
       "Index(['1972 [YR1972]', '1973 [YR1973]', '1974 [YR1974]', '1975 [YR1975]',\n",
       "       '1976 [YR1976]', '1977 [YR1977]', '1978 [YR1978]', '1979 [YR1979]',\n",
       "       '1980 [YR1980]', '1981 [YR1981]', '1982 [YR1982]', '1983 [YR1983]',\n",
       "       '1984 [YR1984]', '1985 [YR1985]', '1986 [YR1986]', '1987 [YR1987]',\n",
       "       '1988 [YR1988]', '1989 [YR1989]', '1990 [YR1990]', '1991 [YR1991]',\n",
       "       '1992 [YR1992]', '1993 [YR1993]', '1994 [YR1994]', '1995 [YR1995]',\n",
       "       '1996 [YR1996]', '1997 [YR1997]', '1998 [YR1998]', '1999 [YR1999]',\n",
       "       '2000 [YR2000]', '2001 [YR2001]', '2002 [YR2002]', '2003 [YR2003]',\n",
       "       '2004 [YR2004]', '2005 [YR2005]', '2006 [YR2006]', '2007 [YR2007]'],\n",
       "      dtype='object')"
      ]
     },
     "execution_count": 80,
     "metadata": {},
     "output_type": "execute_result"
    }
   ],
   "source": [
    "c0"
   ]
  },
  {
   "cell_type": "code",
   "execution_count": 83,
   "metadata": {},
   "outputs": [],
   "source": [
    "import matplotlib.pyplot as plt\n"
   ]
  },
  {
   "cell_type": "code",
   "execution_count": 85,
   "metadata": {},
   "outputs": [],
   "source": [
    "X = c\n",
    "y = z"
   ]
  },
  {
   "cell_type": "code",
   "execution_count": 86,
   "metadata": {},
   "outputs": [
    {
     "data": {
      "text/plain": [
       "(36,)"
      ]
     },
     "execution_count": 86,
     "metadata": {},
     "output_type": "execute_result"
    }
   ],
   "source": [
    "X.shape"
   ]
  },
  {
   "cell_type": "code",
   "execution_count": 87,
   "metadata": {},
   "outputs": [],
   "source": [
    "list=[]\n",
    "for i in X:\n",
    "    z=i.split()\n",
    "    list.append(z[0])\n",
    "list1=[]\n",
    "for i in list:\n",
    "    list1.append(int(i))\n",
    "X = np.asarray(list1)\n"
   ]
  },
  {
   "cell_type": "code",
   "execution_count": 88,
   "metadata": {},
   "outputs": [
    {
     "data": {
      "text/plain": [
       "(36, 1)"
      ]
     },
     "execution_count": 88,
     "metadata": {},
     "output_type": "execute_result"
    }
   ],
   "source": [
    "X=X.reshape(-1,1)\n",
    "y=y.reshape(-1,1)\n",
    "X.shape"
   ]
  },
  {
   "cell_type": "code",
   "execution_count": 89,
   "metadata": {},
   "outputs": [],
   "source": [
    "X_train=X[0:33]\n",
    "y_train=y[0:33]"
   ]
  },
  {
   "cell_type": "code",
   "execution_count": 90,
   "metadata": {},
   "outputs": [],
   "source": [
    "X_test=X[33:37]\n",
    "y_test=y[33:37]"
   ]
  },
  {
   "cell_type": "code",
   "execution_count": 93,
   "metadata": {},
   "outputs": [
    {
     "name": "stderr",
     "output_type": "stream",
     "text": [
      "C:\\Users\\anshu\\Anaconda3\\lib\\site-packages\\sklearn\\cross_validation.py:41: DeprecationWarning: This module was deprecated in version 0.18 in favor of the model_selection module into which all the refactored classes and functions are moved. Also note that the interface of the new CV iterators are different from that of this module. This module will be removed in 0.20.\n",
      "  \"This module will be removed in 0.20.\", DeprecationWarning)\n",
      "C:\\Users\\anshu\\Anaconda3\\lib\\site-packages\\sklearn\\learning_curve.py:22: DeprecationWarning: This module was deprecated in version 0.18 in favor of the model_selection module into which all the functions are moved. This module will be removed in 0.20\n",
      "  DeprecationWarning)\n"
     ]
    }
   ],
   "source": [
    "from sklearn.learning_curve import learning_curve\n",
    "import matplotlib.pyplot as plt\n",
    "from sklearn.metrics import explained_variance_score, make_scorer\n",
    "from sklearn.cross_validation import KFold"
   ]
  },
  {
   "cell_type": "code",
   "execution_count": 94,
   "metadata": {},
   "outputs": [],
   "source": [
    "from sklearn.linear_model import LinearRegression"
   ]
  },
  {
   "cell_type": "code",
   "execution_count": 95,
   "metadata": {},
   "outputs": [],
   "source": [
    "train_sizes=np.linspace(.1, 1.0, 5)\n",
    "train_sizes, train_scores, validation_scores = learning_curve(\n",
    "                                                   estimator = LinearRegression(), X = X,\n",
    "                                                   y = y, train_sizes = train_sizes, cv = 5,\n",
    "                                                   scoring = 'neg_mean_squared_error')"
   ]
  },
  {
   "cell_type": "code",
   "execution_count": 96,
   "metadata": {},
   "outputs": [
    {
     "name": "stdout",
     "output_type": "stream",
     "text": [
      "Mean training scores\n",
      "\n",
      " 2    -0.000000e+00\n",
      "9    -0.000000e+00\n",
      "15    4.278541e-07\n",
      "21    2.479440e-06\n",
      "28    4.742185e-06\n",
      "dtype: float64\n",
      "\n",
      " --------------------\n",
      "\n",
      "Mean validation scores\n",
      "\n",
      " 2     0.000054\n",
      "9     0.000054\n",
      "15    0.000055\n",
      "21    0.000053\n",
      "28    0.000020\n",
      "dtype: float64\n"
     ]
    }
   ],
   "source": [
    "train_scores_mean = -train_scores.mean(axis = 1)\n",
    "validation_scores_mean = -validation_scores.mean(axis = 1)\n",
    "\n",
    "print('Mean training scores\\n\\n', pd.Series(train_scores_mean, index = train_sizes))\n",
    "print('\\n', '-' * 20) # separator\n",
    "print('\\nMean validation scores\\n\\n',pd.Series(validation_scores_mean, index = train_sizes))"
   ]
  },
  {
   "cell_type": "code",
   "execution_count": 97,
   "metadata": {},
   "outputs": [
    {
     "data": {
      "text/plain": [
       "<matplotlib.legend.Legend at 0x25e43397d30>"
      ]
     },
     "execution_count": 97,
     "metadata": {},
     "output_type": "execute_result"
    },
    {
     "data": {
      "image/png": "[encoded data removed]",
      "text/plain": [
       "<Figure size 576x396 with 1 Axes>"
      ]
     },
     "metadata": {},
     "output_type": "display_data"
    }
   ],
   "source": [
    "plt.style.use('seaborn')\n",
    "\n",
    "plt.plot(train_sizes, train_scores_mean, label = 'Training error')\n",
    "plt.plot(train_sizes, validation_scores_mean, label = 'Validation error')\n",
    "\n",
    "plt.ylabel('MSE', fontsize = 14)\n",
    "plt.xlabel('Training set size', fontsize = 14)\n",
    "plt.title('Learning curves for a Linear Regressor', fontsize = 18, y = 1.03)\n",
    "plt.legend()"
   ]
  },
  {
   "cell_type": "markdown",
   "metadata": {},
   "source": [
    "## Ridge"
   ]
  },
  {
   "cell_type": "code",
   "execution_count": 98,
   "metadata": {},
   "outputs": [],
   "source": [
    "from sklearn.linear_model import Ridge"
   ]
  },
  {
   "cell_type": "code",
   "execution_count": 99,
   "metadata": {},
   "outputs": [],
   "source": [
    "#cv = ShuffleSplit(n_splits=10, test_size=0.1, random_state=0)\n",
    "train_sizes=np.linspace(.1, 1.0, 5)\n",
    "train_sizes, train_scores, validation_scores = learning_curve(\n",
    "                                                   estimator = Ridge(alpha=0.05,normalize=True), X = X,\n",
    "                                                   y = y, train_sizes = train_sizes, cv = 5,\n",
    "                                                   scoring = 'neg_mean_squared_error')"
   ]
  },
  {
   "cell_type": "code",
   "execution_count": 100,
   "metadata": {},
   "outputs": [
    {
     "name": "stdout",
     "output_type": "stream",
     "text": [
      "Mean training scores\n",
      "\n",
      " 2    -0.000000e+00\n",
      "9    -0.000000e+00\n",
      "15    4.287423e-07\n",
      "21    2.495533e-06\n",
      "28    4.794143e-06\n",
      "dtype: float64\n",
      "\n",
      " --------------------\n",
      "\n",
      "Mean validation scores\n",
      "\n",
      " 2     0.000054\n",
      "9     0.000054\n",
      "15    0.000055\n",
      "21    0.000053\n",
      "28    0.000019\n",
      "dtype: float64\n"
     ]
    }
   ],
   "source": [
    "train_scores_mean = -train_scores.mean(axis = 1)\n",
    "validation_scores_mean = -validation_scores.mean(axis = 1)\n",
    "\n",
    "print('Mean training scores\\n\\n', pd.Series(train_scores_mean, index = train_sizes))\n",
    "print('\\n', '-' * 20) # separator\n",
    "print('\\nMean validation scores\\n\\n',pd.Series(validation_scores_mean, index = train_sizes))"
   ]
  },
  {
   "cell_type": "code",
   "execution_count": 101,
   "metadata": {},
   "outputs": [
    {
     "data": {
      "text/plain": [
       "<matplotlib.legend.Legend at 0x25e4340bb38>"
      ]
     },
     "execution_count": 101,
     "metadata": {},
     "output_type": "execute_result"
    },
    {
     "data": {
      "image/png": "[encoded data removed]",
      "text/plain": [
       "<Figure size 576x396 with 1 Axes>"
      ]
     },
     "metadata": {},
     "output_type": "display_data"
    }
   ],
   "source": [
    "plt.style.use('seaborn')\n",
    "\n",
    "plt.plot(train_sizes, train_scores_mean, label = 'Training error')\n",
    "plt.plot(train_sizes, validation_scores_mean, label = 'Validation error')\n",
    "\n",
    "plt.ylabel('MSE', fontsize = 14)\n",
    "plt.xlabel('Training set size', fontsize = 14)\n",
    "plt.title('Learning curves for Ridge Regressor', fontsize = 18, y = 1.03)\n",
    "plt.legend()"
   ]
  },
  {
   "cell_type": "markdown",
   "metadata": {},
   "source": [
    "## LARS"
   ]
  },
  {
   "cell_type": "code",
   "execution_count": 104,
   "metadata": {},
   "outputs": [],
   "source": [
    "from sklearn.linear_model import Lars"
   ]
  },
  {
   "cell_type": "code",
   "execution_count": 105,
   "metadata": {},
   "outputs": [],
   "source": [
    "#cv = ShuffleSplit(n_splits=10, test_size=0.1, random_state=0)\n",
    "train_sizes=np.linspace(.1, 1.0, 5)\n",
    "train_sizes, train_scores, validation_scores = learning_curve(\n",
    "                                                   estimator = Lars(normalize=True), X = X,\n",
    "                                                   y = y, train_sizes = train_sizes, cv = 5,\n",
    "                                                   scoring = 'neg_mean_squared_error')"
   ]
  },
  {
   "cell_type": "code",
   "execution_count": 106,
   "metadata": {},
   "outputs": [
    {
     "name": "stdout",
     "output_type": "stream",
     "text": [
      "Mean training scores\n",
      "\n",
      " 2    -0.000000e+00\n",
      "9    -0.000000e+00\n",
      "15    4.278541e-07\n",
      "21    2.479440e-06\n",
      "28    4.742185e-06\n",
      "dtype: float64\n",
      "\n",
      " --------------------\n",
      "\n",
      "Mean validation scores\n",
      "\n",
      " 2     0.000054\n",
      "9     0.000054\n",
      "15    0.000055\n",
      "21    0.000053\n",
      "28    0.000020\n",
      "dtype: float64\n"
     ]
    }
   ],
   "source": [
    "train_scores_mean = -train_scores.mean(axis = 1)\n",
    "validation_scores_mean = -validation_scores.mean(axis = 1)\n",
    "\n",
    "print('Mean training scores\\n\\n', pd.Series(train_scores_mean, index = train_sizes))\n",
    "print('\\n', '-' * 20) # separator\n",
    "print('\\nMean validation scores\\n\\n',pd.Series(validation_scores_mean, index = train_sizes))"
   ]
  },
  {
   "cell_type": "code",
   "execution_count": 107,
   "metadata": {},
   "outputs": [
    {
     "data": {
      "text/plain": [
       "<matplotlib.legend.Legend at 0x25e434759b0>"
      ]
     },
     "execution_count": 107,
     "metadata": {},
     "output_type": "execute_result"
    },
    {
     "data": {
      "image/png": "[encoded data removed]",
      "text/plain": [
       "<Figure size 576x396 with 1 Axes>"
      ]
     },
     "metadata": {},
     "output_type": "display_data"
    }
   ],
   "source": [
    "plt.style.use('seaborn')\n",
    "\n",
    "plt.plot(train_sizes, train_scores_mean, label = 'Training error')\n",
    "plt.plot(train_sizes, validation_scores_mean, label = 'Validation error')\n",
    "\n",
    "plt.ylabel('MSE', fontsize = 14)\n",
    "plt.xlabel('Training set size', fontsize = 14)\n",
    "plt.title('Learning curves for a  Lars Regressor', fontsize = 18, y = 1.03)\n",
    "plt.legend()"
   ]
  },
  {
   "cell_type": "code",
   "execution_count": 108,
   "metadata": {},
   "outputs": [],
   "source": [
    "from sklearn.linear_model import Lasso"
   ]
  },
  {
   "cell_type": "code",
   "execution_count": 109,
   "metadata": {},
   "outputs": [],
   "source": [
    "#cv = ShuffleSplit(n_splits=10, test_size=0.1, random_state=0)\n",
    "train_sizes=np.linspace(.1, 1.0, 5)\n",
    "train_sizes, train_scores, validation_scores = learning_curve(\n",
    "                                                   estimator =  Lasso(alpha=0.1), X = X,\n",
    "                                                   y = y, train_sizes = train_sizes, cv = 5,\n",
    "                                                   scoring = 'neg_mean_squared_error')"
   ]
  },
  {
   "cell_type": "code",
   "execution_count": 110,
   "metadata": {},
   "outputs": [
    {
     "name": "stdout",
     "output_type": "stream",
     "text": [
      "Mean training scores\n",
      "\n",
      " 2    -0.000000e+00\n",
      "9    -0.000000e+00\n",
      "15    8.195556e-07\n",
      "21    9.576417e-06\n",
      "28    2.765561e-05\n",
      "dtype: float64\n",
      "\n",
      " --------------------\n",
      "\n",
      "Mean validation scores\n",
      "\n",
      " 2     0.000054\n",
      "9     0.000054\n",
      "15    0.000054\n",
      "21    0.000056\n",
      "28    0.000050\n",
      "dtype: float64\n"
     ]
    }
   ],
   "source": [
    "train_scores_mean = -train_scores.mean(axis = 1)\n",
    "validation_scores_mean = -validation_scores.mean(axis = 1)\n",
    "\n",
    "print('Mean training scores\\n\\n', pd.Series(train_scores_mean, index = train_sizes))\n",
    "print('\\n', '-' * 20) # separator\n",
    "print('\\nMean validation scores\\n\\n',pd.Series(validation_scores_mean, index = train_sizes))"
   ]
  },
  {
   "cell_type": "code",
   "execution_count": 111,
   "metadata": {},
   "outputs": [
    {
     "data": {
      "text/plain": [
       "<matplotlib.legend.Legend at 0x25e434dc8d0>"
      ]
     },
     "execution_count": 111,
     "metadata": {},
     "output_type": "execute_result"
    },
    {
     "data": {
      "image/png": "[encoded data removed]",
      "text/plain": [
       "<Figure size 576x396 with 1 Axes>"
      ]
     },
     "metadata": {},
     "output_type": "display_data"
    }
   ],
   "source": [
    "plt.style.use('seaborn')\n",
    "\n",
    "plt.plot(train_sizes, train_scores_mean, label = 'Training error')\n",
    "plt.plot(train_sizes, validation_scores_mean, label = 'Validation error')\n",
    "\n",
    "plt.ylabel('MSE', fontsize = 14)\n",
    "plt.xlabel('Training set size', fontsize = 14)\n",
    "plt.title('Learning curves for a Lasso Regressor', fontsize = 18, y = 1.03)\n",
    "plt.legend()"
   ]
  },
  {
   "cell_type": "markdown",
   "metadata": {},
   "source": [
    "# RMSE"
   ]
  },
  {
   "cell_type": "markdown",
   "metadata": {},
   "source": [
    "### LINEAR REGRESSION - 0.13\n",
    "### RIDGE REGRESSION -0.0513\n",
    "### LARS REGRESSION  -0.0533\n",
    "\n"
   ]
  },
  {
   "cell_type": "markdown",
   "metadata": {},
   "source": [
    "# Conclusion"
   ]
  },
  {
   "cell_type": "markdown",
   "metadata": {},
   "source": [
    "### Predictions for the indicators specified for the year 2008 and 2012 were made and a submission file was generated.\n",
    "### Out of the two preprocessing techniques, F and B filling produced the best imputation.\n",
    "### Out of the four predictive models, Ridge regression produced the best results.(0.0513)\n",
    "### The evaluation metric was the bias-variance curve and rmse values.\n",
    "### Based on the bias-variance curve, Lasso regression was discarded.\n",
    "### Based on the rmse value Ridge regression was selected as the best predictive model.\n"
   ]
  },
  {
   "cell_type": "code",
   "execution_count": null,
   "metadata": {},
   "outputs": [],
   "source": []
  }
 ],
 "metadata": {
  "kernelspec": {
   "display_name": "Python 3",
   "language": "python",
   "name": "python3"
  },
  "language_info": {
   "codemirror_mode": {
    "name": "ipython",
    "version": 3
   },
   "file_extension": ".py",
   "mimetype": "text/x-python",
   "name": "python",
   "nbconvert_exporter": "python",
   "pygments_lexer": "ipython3",
   "version": "3.6.5"
  }
 },
 "nbformat": 4,
 "nbformat_minor": 2
}
